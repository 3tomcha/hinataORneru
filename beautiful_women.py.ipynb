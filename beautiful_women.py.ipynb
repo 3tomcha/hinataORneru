{
 "cells": [
  {
   "cell_type": "code",
   "execution_count": 3,
   "metadata": {},
   "outputs": [
    {
     "name": "stdout",
     "output_type": "stream",
     "text": [
      "~~~~~~~~hinanoの画像をNumpy形式に変換し、Listに格納中~~~~~~~~\n",
      "~~~~~~~~neruの画像をNumpy形式に変換し、Listに格納中~~~~~~~~\n",
      "------------ListをNumpy形式に変換中--------------\n",
      "object\n",
      "int64\n",
      "(231,)\n"
     ]
    }
   ],
   "source": [
    "from PIL import Image\n",
    "import numpy as np\n",
    "import os, glob\n",
    "\n",
    "ROOT_DIR = \"images/test/\"\n",
    "WOMEN = [\"hinano\", \"neru\"]\n",
    "\n",
    "\n",
    "#美女クラス\n",
    "class BeautifulWomen:\n",
    "    def __init__(self, data, target, target_names, images):\n",
    "        self.data = data\n",
    "        self.target = target\n",
    "        self.target_names = target_names\n",
    "        self.images = images\n",
    "\n",
    "    #キー(インスタンス変数)を取得するメソッド\n",
    "    def keys(self):\n",
    "        print(\"[data, target, target_names, images]\")\n",
    "        \n",
    "\n",
    "\n",
    "def load_beautiful_woman():\n",
    "    data = []\n",
    "    target = []\n",
    "    target_names = [\"hinano\", \"neru\"]\n",
    "    images = []\n",
    "    \n",
    "    for label, woman in enumerate(WOMEN):\n",
    "        file_dir = ROOT_DIR + woman\n",
    "        files = glob.glob(file_dir + \"/*.jpeg\")\n",
    "        print(\"~~~~~~~~{}の画像をNumpy形式に変換し、Listに格納中~~~~~~~~\".format(woman))\n",
    "        for i, f in enumerate(files):\n",
    "            img = Image.open(f)\n",
    "            img = img.convert('L')          #画像をグレースケールに変換\n",
    "            #img = img.resize((128, 128))    #画像サイズの変更\n",
    "            imgdata = np.asarray(img)       #Numpy配列に変換\n",
    "            images.append(imgdata)          #画像データ: 128*128の2次元配列\n",
    "            data.append(imgdata.flatten())  #画像データ: 16,384の1次元配列\n",
    "            target.append(label)            #正解ラベルを格納\n",
    "\n",
    "    print(\"------------ListをNumpy形式に変換中--------------\")\n",
    "    data = np.array(data)\n",
    "    target = np.array(target)\n",
    "    target_names = np.array(target_names)\n",
    "    images = np.array(images)\n",
    "    \n",
    "    print(data.dtype)\n",
    "    print(target.dtype)\n",
    "    #インスタンスを生成\n",
    "    beautifulWomen = BeautifulWomen(data, target, target_names, images)\n",
    "\n",
    "    return beautifulWomen\n",
    "\n",
    "\n",
    "\n",
    "women = load_beautiful_woman()\n",
    "print(women.data.shape)\n",
    "    \n"
   ]
  },
  {
   "cell_type": "code",
   "execution_count": 2,
   "metadata": {},
   "outputs": [
    {
     "name": "stdout",
     "output_type": "stream",
     "text": [
      "[data, target, target_names, images]\n"
     ]
    }
   ],
   "source": [
    "women.keys()    \n"
   ]
  },
  {
   "cell_type": "code",
   "execution_count": null,
   "metadata": {},
   "outputs": [],
   "source": []
  }
 ],
 "metadata": {
  "kernelspec": {
   "display_name": "Python 3.6 - AzureML",
   "language": "python",
   "name": "python3-azureml"
  },
  "language_info": {
   "codemirror_mode": {
    "name": "ipython",
    "version": 3
   },
   "file_extension": ".py",
   "mimetype": "text/x-python",
   "name": "python",
   "nbconvert_exporter": "python",
   "pygments_lexer": "ipython3",
   "version": "3.6.2"
  }
 },
 "nbformat": 4,
 "nbformat_minor": 2
}
